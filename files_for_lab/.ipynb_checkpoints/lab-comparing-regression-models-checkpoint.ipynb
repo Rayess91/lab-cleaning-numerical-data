{
 "cells": [
  {
   "cell_type": "markdown",
   "id": "bd0aea99",
   "metadata": {},
   "source": [
    "Concatenate Numerical and Categorical dataframes into one dataframe called data. Split into X=features y=target (total_claim_amount).\n",
    "\n",
    "1-In this final lab, we will model our data. Import sklearn train_test_split and separate the data.\n",
    "\n",
    "2-Separate X_train and X_test into numerical and categorical (X_train_cat , X_train_num , X_test_cat , X_test_num)\n",
    "\n",
    "3-Use X_train_num to fit scalers. Transform BOTH X_train_num and X_test_num.\n",
    "\n",
    "4-Encode the categorical variables X_train_cat and X_test_cat (See the hint below for encoding categorical data!!!)\n",
    "\n",
    "5-Since the model will only accept numerical data, check and make sure that every column is numerical, if some are not, change it using encoding.\n",
    "\n",
    "6-Try a simple linear regression with all the data to see whether we are getting good results.\n",
    "\n",
    "Great! Now define a function that takes a list of models and train (and tests) them so we can try a lot of them without repeating code.\n",
    "\n",
    "7-Use the function to check LinearRegressor and KNeighborsRegressor.\n",
    "\n",
    "8-You can check also the MLPRegressor for this task!\n",
    "\n",
    "9-Check and discuss the results."
   ]
  },
  {
   "cell_type": "code",
   "execution_count": null,
   "id": "77fb9c68",
   "metadata": {},
   "outputs": [],
   "source": [
    "import pandas as pd\n",
    "import seaborn as sns\n",
    "import matplotlib.pyplot as plt\n",
    "import numpy as np"
   ]
  },
  {
   "cell_type": "code",
   "execution_count": null,
   "id": "f1894a0d",
   "metadata": {},
   "outputs": [],
   "source": [
    "numerical_df = pd.read_csv('numerical_df.csv')"
   ]
  },
  {
   "cell_type": "code",
   "execution_count": null,
   "id": "2d5e86e8",
   "metadata": {},
   "outputs": [],
   "source": [
    "categorical_df = pd.read_csv('categorical_df.csv')"
   ]
  },
  {
   "cell_type": "code",
   "execution_count": null,
   "id": "20fa2601",
   "metadata": {},
   "outputs": [],
   "source": [
    "data = pd.concat([numerical_df, categorical_df], axis=1)"
   ]
  },
  {
   "cell_type": "code",
   "execution_count": null,
   "id": "99cc0fb2",
   "metadata": {},
   "outputs": [],
   "source": [
    "data.dtypes"
   ]
  },
  {
   "cell_type": "code",
   "execution_count": null,
   "id": "a43a67c2",
   "metadata": {},
   "outputs": [],
   "source": [
    "X = data.drop(columns=['total_claim_amount'])\n",
    "y= data['total_claim_amount']"
   ]
  },
  {
   "cell_type": "code",
   "execution_count": null,
   "id": "97fb68af",
   "metadata": {},
   "outputs": [],
   "source": [
    "from sklearn.model_selection import train_test_split\n",
    "X_train, X_test, y_train, y_test = train_test_split(X, y, test_size=0.2, random_state=42)\n"
   ]
  },
  {
   "cell_type": "code",
   "execution_count": null,
   "id": "8deff509",
   "metadata": {},
   "outputs": [],
   "source": [
    "X_train_num = X_train.select_dtypes(include='number')  # Select numerical features\n",
    "X_train_cat = X_train.select_dtypes(exclude='number')  # Select categorical features\n",
    "X_test_num = X_test.select_dtypes(include='number')  # Select numerical features\n",
    "X_test_cat = X_test.select_dtypes(exclude='number')  # Select categorical features\n"
   ]
  },
  {
   "cell_type": "code",
   "execution_count": null,
   "id": "572bb0d2",
   "metadata": {},
   "outputs": [],
   "source": [
    "X_test_cat"
   ]
  },
  {
   "cell_type": "code",
   "execution_count": null,
   "id": "a49c235b",
   "metadata": {},
   "outputs": [],
   "source": [
    "from sklearn.preprocessing import MinMaxScaler\n",
    "scaler = MinMaxScaler()\n",
    "scaler.fit(X_train_num)\n",
    "X_train_num_scaled = scaler.transform(X_train_num)\n",
    "X_test_num_scaled = scaler.transform(X_test_num)"
   ]
  },
  {
   "cell_type": "code",
   "execution_count": null,
   "id": "33420c96",
   "metadata": {},
   "outputs": [],
   "source": [
    "from sklearn.preprocessing import OneHotEncoder"
   ]
  },
  {
   "cell_type": "code",
   "execution_count": null,
   "id": "5c6aa0dd",
   "metadata": {},
   "outputs": [],
   "source": [
    "ordinal_cols = {\n",
    "    'coverage': {\"Basic\": 0, \"Extended\": 1, \"Premium\": 2},\n",
    "    'employmentstatus': {\"Unemployed\": 0, \"Employed\": 1, \"Medical Leave\": 2, \"Disabled\": 3, \"Retired\": 4},\n",
    "    'location_code': {\"Rural\": 0, \"Suburban\": 1, \"Urban\": 2},\n",
    "    'vehicle_size': {\"Small\": 0, \"Medsize\": 1, \"Large\": 2},\n",
    "    'education': {\"High School or Below\": 0, \"College\": 1, \"Bachelor\": 2, \"Master\": 3, \"Doctor\": 4}}\n",
    "\n",
    "for col, mapping in ordinal_cols.items():\n",
    "    X_train_cat[col] = X_train_cat[col].map(mapping)\n",
    "    X_test_cat[col] = X_test_cat[col].map(mapping)\n"
   ]
  },
  {
   "cell_type": "code",
   "execution_count": null,
   "id": "79983e05",
   "metadata": {},
   "outputs": [],
   "source": [
    "onehot_cols = ['state', 'marital_status', 'policy', 'renew_offer_type', 'sales_channel', 'vehicle_class', 'response', 'gender']"
   ]
  },
  {
   "cell_type": "code",
   "execution_count": null,
   "id": "9ee55989",
   "metadata": {},
   "outputs": [],
   "source": [
    "encoder = OneHotEncoder(drop='first')  \n",
    "X_train_cat_encoded = pd.DataFrame(encoder.fit_transform(X_train_cat[onehot_cols]))\n",
    "X_test_cat_encoded = pd.DataFrame(encoder.transform(X_test_cat[onehot_cols]))\n",
    "X_train_cat_encoded.reset_index(drop=True, inplace=True)\n",
    "X_test_cat_encoded.reset_index(drop=True, inplace=True)"
   ]
  },
  {
   "cell_type": "code",
   "execution_count": null,
   "id": "f7e0b534",
   "metadata": {},
   "outputs": [],
   "source": [
    "X_train_num_scaled_df = pd.DataFrame(X_train_num_scaled, columns=X_train_num.columns)\n",
    "X_test_num_scaled_df = pd.DataFrame(X_test_num_scaled, columns=X_test_num.columns)\n"
   ]
  },
  {
   "cell_type": "code",
   "execution_count": null,
   "id": "08e475b9",
   "metadata": {},
   "outputs": [],
   "source": [
    "X_train_all = pd.concat([X_train_num_scaled_df, X_train_cat_encoded], axis=1)\n",
    "X_test_all = pd.concat([X_test_num_scaled_df, X_test_cat_encoded], axis=1)\n",
    "\n"
   ]
  },
  {
   "cell_type": "code",
   "execution_count": null,
   "id": "305399f8",
   "metadata": {
    "scrolled": true
   },
   "outputs": [],
   "source": [
    "X_train_all.drop(columns=['0'], inplace=True) \n",
    "X_test_all.drop(columns=['0'], inplace=True)"
   ]
  },
  {
   "cell_type": "code",
   "execution_count": null,
   "id": "31364f91",
   "metadata": {},
   "outputs": [],
   "source": [
    "from sklearn.linear_model import LinearRegression\n",
    "from sklearn.metrics import mean_squared_error, r2_score\n"
   ]
  },
  {
   "cell_type": "code",
   "execution_count": null,
   "id": "09bb4795",
   "metadata": {},
   "outputs": [],
   "source": [
    "model = LinearRegression()\n",
    "model.fit(X_train_all, y_train)"
   ]
  },
  {
   "cell_type": "code",
   "execution_count": null,
   "id": "15401e45",
   "metadata": {},
   "outputs": [],
   "source": [
    "y_pred = model.predict(X_test_all)"
   ]
  },
  {
   "cell_type": "code",
   "execution_count": null,
   "id": "ce871a9b",
   "metadata": {},
   "outputs": [],
   "source": [
    "mse = mean_squared_error(y_test, y_pred)\n",
    "r2 = r2_score(y_test, y_pred)"
   ]
  },
  {
   "cell_type": "code",
   "execution_count": null,
   "id": "731a8829",
   "metadata": {},
   "outputs": [],
   "source": [
    "print(\"Mean Squared Error (MSE):\", mse)\n",
    "print(\"R-squared (R2):\", r2)"
   ]
  },
  {
   "cell_type": "code",
   "execution_count": null,
   "id": "65de956c",
   "metadata": {},
   "outputs": [],
   "source": []
  }
 ],
 "metadata": {
  "kernelspec": {
   "display_name": "Python 3 (ipykernel)",
   "language": "python",
   "name": "python3"
  },
  "language_info": {
   "codemirror_mode": {
    "name": "ipython",
    "version": 3
   },
   "file_extension": ".py",
   "mimetype": "text/x-python",
   "name": "python",
   "nbconvert_exporter": "python",
   "pygments_lexer": "ipython3",
   "version": "3.11.5"
  }
 },
 "nbformat": 4,
 "nbformat_minor": 5
}
